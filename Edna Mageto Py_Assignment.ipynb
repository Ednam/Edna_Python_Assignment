{
 "cells": [
  {
   "cell_type": "markdown",
   "metadata": {},
   "source": [
    "# Python Assignment_Edna Mageto"
   ]
  },
  {
   "cell_type": "markdown",
   "metadata": {},
   "source": [
    "Install the necessary packages to work with\n"
   ]
  },
  {
   "cell_type": "code",
   "execution_count": 1,
   "metadata": {
    "collapsed": true
   },
   "outputs": [],
   "source": [
    "import pandas as pd\n",
    "import seaborn as sns\n",
    "import requests\n",
    "import urllib\n",
    "import io\n"
   ]
  },
  {
   "cell_type": "code",
   "execution_count": 2,
   "metadata": {
    "collapsed": true
   },
   "outputs": [],
   "source": [
    "from Bio import SeqIO\n",
    "from Bio.Data import CodonTable\n",
    "from Bio.Alphabet import SingleLetterAlphabet\n",
    "from Bio.Seq import Seq\n",
    "from Bio.SeqUtils.ProtParam import ProteinAnalysis\n",
    "from Bio.SeqUtils import GC\n",
    "from Bio.SeqUtils import molecular_weight\n",
    "from Bio.Alphabet import IUPAC"
   ]
  },
  {
   "cell_type": "markdown",
   "metadata": {},
   "source": [
    "# 1. \n",
    "### This function gets sequences \n"
   ]
  },
  {
   "cell_type": "code",
   "execution_count": 3,
   "metadata": {
    "collapsed": true
   },
   "outputs": [],
   "source": [
    "\n",
    "def get_sequences_from_file(fasta_fn): # def is used to define a function get_sequence_data_from _file \n",
    "    #that takes a fasta file as an input file.\n",
    "    sequence_data_dict = {} # Creates and defines an empty variable\n",
    "    for record in SeqIO.parse(fasta_fn, \"fasta\"):# This is a for loop with SeqIO.parse() function used \n",
    "        #to read sequence files as seq record objects. For every fasta sequence, use built in biopython function\n",
    "        description = record.description.split()# splitting the output from the in built function defined above \n",
    "        #and store it in the defined variable\n",
    "        species_name = description[1] + \" \" + description[2]# define or create a variable species_names store the name, space and \n",
    "        #then followed by the sequences\n",
    "        sequence_data_dict[species_name] = record.seq #In a dictionary, assign the previous created variable species_name\n",
    "        #to the record.seq. This appends the empty variable with the sequences from previous step\n",
    "    return(sequence_data_dict)# This step return a dictionary with species_name as key and sequences\n"
   ]
  },
  {
   "cell_type": "code",
   "execution_count": 4,
   "metadata": {
    "collapsed": true
   },
   "outputs": [],
   "source": [
    "cytb_seqs = get_sequences_from_file(\"penguins_cytb.fasta\")#Reading in the data\n",
    "penguins_df = pd.read_csv(\"penguins_mass.csv\") # Includes only data for body mass \n",
    "species_list = list(penguins_df.species)"
   ]
  },
  {
   "cell_type": "markdown",
   "metadata": {},
   "source": [
    "# 2.\n",
    "#### This function helps to translates a string of given nucleotides to amino acids"
   ]
  },
  {
   "cell_type": "code",
   "execution_count": 5,
   "metadata": {
    "collapsed": true
   },
   "outputs": [],
   "source": [
    "def function_translate(nucleotide):# fefines the function that changes the original DNA sequence into aa\n",
    "    aa = ''\n",
    "    mito_table = CodonTable.unambiguous_dna_by_name[\"Vertebrate Mitochondrial\"]  # creates j table for codon \n",
    "    for i in range(0,len(nucleotide),3): # for loop through every 3rd position\n",
    "        j = nucleotide[i:i+3]\n",
    "        if j in mito_table.stop_codons: # do nothing if there is stop codon\n",
    "            pass\n",
    "        else :\n",
    "            aa = aa + mito_table.forward_table[j]   # add amino acid to codon called j\n",
    "    return aa\n"
   ]
  },
  {
   "cell_type": "code",
   "execution_count": 6,
   "metadata": {
    "collapsed": true
   },
   "outputs": [],
   "source": [
    "Aptenodytes_forsteristr = str(cytb_seqs['Aptenodytes forsteri'])"
   ]
  },
  {
   "cell_type": "code",
   "execution_count": 7,
   "metadata": {
    "scrolled": true
   },
   "outputs": [
    {
     "data": {
      "text/plain": [
       "'MAPNLRKSHPLLKMINNSLIDLPTPSNISAWWNFGSLLGICLTTQILTGLLLAMHYTADTTLAFSSVAHTCRNVQYGWLIRNLHANGASFFFICIYLHIGRGFYYGSYLYKETWNTGIILLLTLMATAFVGYVLPWGQMSFWGATVITNLFSAIPYIGQTLVEWTWGGFSVDNPTLTRFFALHFLLPFMIAGLTLIHLTFLHESGSNNPLGIVANSDKIPFHPYYSTKDILGFALMLLPLTTLALFSPNLLGDPENFTPANPLVTPPHIKPEWYFLFAYAILRSIPNKLGGVLALAASVLILFLIPLLHKSKQRTMAFRPLSQLLFWALVANLIILTWVGSQPVEHPFIIIGQLASLTYFTTLLILFPIAGALENKMLNH'"
      ]
     },
     "execution_count": 7,
     "metadata": {},
     "output_type": "execute_result"
    }
   ],
   "source": [
    "function_translate(Aptenodytes_forsteristr)\n",
    "                   "
   ]
  },
  {
   "cell_type": "code",
   "execution_count": 8,
   "metadata": {
    "collapsed": true
   },
   "outputs": [],
   "source": [
    "mito_table = CodonTable.unambiguous_dna_by_name[\"Vertebrate Mitochondrial\"]# testing what is going on"
   ]
  },
  {
   "cell_type": "code",
   "execution_count": 9,
   "metadata": {},
   "outputs": [
    {
     "data": {
      "text/plain": [
       "['ATT', 'ATC', 'ATA', 'ATG', 'GTG']"
      ]
     },
     "execution_count": 9,
     "metadata": {},
     "output_type": "execute_result"
    }
   ],
   "source": [
    "mito_table.start_codons#printing the start codons"
   ]
  },
  {
   "cell_type": "code",
   "execution_count": 10,
   "metadata": {},
   "outputs": [
    {
     "data": {
      "text/plain": [
       "['TAA', 'TAG', 'AGA', 'AGG']"
      ]
     },
     "execution_count": 10,
     "metadata": {},
     "output_type": "execute_result"
    }
   ],
   "source": [
    "mito_table.stop_codons#printing the stop codons"
   ]
  },
  {
   "cell_type": "markdown",
   "metadata": {},
   "source": [
    "## 3 \n",
    "#### Using alternative function to translate\n"
   ]
  },
  {
   "cell_type": "code",
   "execution_count": 11,
   "metadata": {
    "collapsed": true
   },
   "outputs": [],
   "source": [
    "#Use of available biopython libraries \n",
    "#This can be done by using the function translate function built in Biopython. \n",
    "#so to use the funtion,one has to load the allphabet \"SingleLetterAlphabet\" packageas this will help in\n",
    "# to interpret the sequence \n",
    "#After loading the package,specify the type of table in this case table=2\n",
    "\n",
    "def alt_translate_function(string_nucleotides): #This function reads a string of nucleotides\n",
    "    aa_string = string_nucleotides.translate(table=2,to_stop=True) #This function returns translated amino acids \n",
    "    return (str(aa_string))"
   ]
  },
  {
   "cell_type": "code",
   "execution_count": 12,
   "metadata": {},
   "outputs": [
    {
     "data": {
      "text/plain": [
       "'MAPNLRKSHPLLKMINNSLIDLPTPSNISAWWNFGSLLGICLTTQILTGLLLAMHYTADTTLAFSSVAHTCRNVQYGWLIRNLHANGASFFFICIYLHIGRGFYYGSYLYKETWNTGIILLLTLMATAFVGYVLPWGQMSFWGATVITNLFSAIPYIGQTLVEWTWGGFSVDNPTLTRFFALHFLLPFMIAGLTLIHLTFLHESGSNNPLGIVANSDKIPFHPYYSTKDILGFALMLLPLTTLALFSPNLLGDPENFTPANPLVTPPHIKPEWYFLFAYAILRSIPNKLGGVLALAASVLILFLIPLLHKSKQRTMAFRPLSQLLFWALVANLIILTWVGSQPVEHPFIIIGQLASLTYFTTLLILFPIAGALENKMLNH'"
      ]
     },
     "execution_count": 12,
     "metadata": {},
     "output_type": "execute_result"
    }
   ],
   "source": [
    "alt_translate_function(cytb_seqs['Aptenodytes forsteri'])#testing the function"
   ]
  },
  {
   "cell_type": "markdown",
   "metadata": {},
   "source": [
    "# 4. \n",
    "#### Molecular weight of amino acids"
   ]
  },
  {
   "cell_type": "code",
   "execution_count": 13,
   "metadata": {
    "collapsed": true
   },
   "outputs": [],
   "source": [
    "def compute_molecular_weight(aa_seq): #Funtion takes a bulit in biopython sequence\n",
    "    analysed_seq = ProteinAnalysis(aa_seq)\n",
    "    weight = analysed_seq.molecular_weight()#Calculates the molecular weight of a protein\n",
    "    return(weight)"
   ]
  },
  {
   "cell_type": "code",
   "execution_count": 14,
   "metadata": {},
   "outputs": [
    {
     "data": {
      "text/plain": [
       "100706.248000002"
      ]
     },
     "execution_count": 14,
     "metadata": {},
     "output_type": "execute_result"
    }
   ],
   "source": [
    "compute_molecular_weight(Aptenodytes_forsteristr) #Testing the function"
   ]
  },
  {
   "cell_type": "markdown",
   "metadata": {},
   "source": [
    "# 5 \n",
    "#### Analysis of the GC content function \n"
   ]
  },
  {
   "cell_type": "code",
   "execution_count": 15,
   "metadata": {
    "collapsed": true
   },
   "outputs": [],
   "source": [
    "def GC_content(sequence):#Defines a funtion for the GC content calculation\n",
    "    GC_count= 0\n",
    "    for i in sequence:\n",
    "        if i =='G' or i=='C':\n",
    "            GC_count +=1\n",
    "             \n",
    "    return (float(GC_count)*100/(len(sequence)))\n",
    "    "
   ]
  },
  {
   "cell_type": "code",
   "execution_count": 16,
   "metadata": {},
   "outputs": [
    {
     "data": {
      "text/plain": [
       "48.38145231846019"
      ]
     },
     "execution_count": 16,
     "metadata": {},
     "output_type": "execute_result"
    }
   ],
   "source": [
    "GC_content(cytb_seqs['Aptenodytes forsteri'])"
   ]
  },
  {
   "cell_type": "markdown",
   "metadata": {},
   "source": [
    "# 6\n",
    "### Main\n",
    "#### Import necessary files"
   ]
  },
  {
   "cell_type": "code",
   "execution_count": 17,
   "metadata": {
    "collapsed": true
   },
   "outputs": [],
   "source": [
    "cytb_seqs = get_sequences_from_file(\"penguins_cytb.fasta\")\n",
    "penguins_df = pd.read_csv(\"penguins_mass.csv\") # Includes only data for body mass \n",
    "species_list = list(penguins_df.species)"
   ]
  },
  {
   "cell_type": "code",
   "execution_count": 18,
   "metadata": {
    "collapsed": true
   },
   "outputs": [],
   "source": [
    "penguins_df =pd.read_csv(\"penguins_mass.csv\")\n"
   ]
  },
  {
   "cell_type": "code",
   "execution_count": 19,
   "metadata": {},
   "outputs": [
    {
     "data": {
      "text/html": [
       "<div>\n",
       "<style>\n",
       "    .dataframe thead tr:only-child th {\n",
       "        text-align: right;\n",
       "    }\n",
       "\n",
       "    .dataframe thead th {\n",
       "        text-align: left;\n",
       "    }\n",
       "\n",
       "    .dataframe tbody tr th {\n",
       "        vertical-align: top;\n",
       "    }\n",
       "</style>\n",
       "<table border=\"1\" class=\"dataframe\">\n",
       "  <thead>\n",
       "    <tr style=\"text-align: right;\">\n",
       "      <th></th>\n",
       "      <th>species</th>\n",
       "      <th>mass</th>\n",
       "    </tr>\n",
       "  </thead>\n",
       "  <tbody>\n",
       "    <tr>\n",
       "      <th>0</th>\n",
       "      <td>Aptenodytes forsteri</td>\n",
       "      <td>28.00</td>\n",
       "    </tr>\n",
       "    <tr>\n",
       "      <th>1</th>\n",
       "      <td>Aptenodytes patagonicus</td>\n",
       "      <td>13.40</td>\n",
       "    </tr>\n",
       "    <tr>\n",
       "      <th>2</th>\n",
       "      <td>Eudyptes chrysocome</td>\n",
       "      <td>2.80</td>\n",
       "    </tr>\n",
       "    <tr>\n",
       "      <th>3</th>\n",
       "      <td>Eudyptes chrysolophus</td>\n",
       "      <td>4.50</td>\n",
       "    </tr>\n",
       "    <tr>\n",
       "      <th>4</th>\n",
       "      <td>Eudyptes sclateri</td>\n",
       "      <td>4.25</td>\n",
       "    </tr>\n",
       "    <tr>\n",
       "      <th>5</th>\n",
       "      <td>Eudyptula minor</td>\n",
       "      <td>1.60</td>\n",
       "    </tr>\n",
       "    <tr>\n",
       "      <th>6</th>\n",
       "      <td>Pygoscelis adeliae</td>\n",
       "      <td>4.60</td>\n",
       "    </tr>\n",
       "    <tr>\n",
       "      <th>7</th>\n",
       "      <td>Pygoscelis antarctica</td>\n",
       "      <td>4.10</td>\n",
       "    </tr>\n",
       "    <tr>\n",
       "      <th>8</th>\n",
       "      <td>Pygoscelis papua</td>\n",
       "      <td>6.10</td>\n",
       "    </tr>\n",
       "    <tr>\n",
       "      <th>9</th>\n",
       "      <td>Spheniscus demersus</td>\n",
       "      <td>3.20</td>\n",
       "    </tr>\n",
       "    <tr>\n",
       "      <th>10</th>\n",
       "      <td>Spheniscus humboldti</td>\n",
       "      <td>4.75</td>\n",
       "    </tr>\n",
       "    <tr>\n",
       "      <th>11</th>\n",
       "      <td>Spheniscus magellanicus</td>\n",
       "      <td>3.40</td>\n",
       "    </tr>\n",
       "  </tbody>\n",
       "</table>\n",
       "</div>"
      ],
      "text/plain": [
       "                    species   mass\n",
       "0      Aptenodytes forsteri  28.00\n",
       "1   Aptenodytes patagonicus  13.40\n",
       "2       Eudyptes chrysocome   2.80\n",
       "3     Eudyptes chrysolophus   4.50\n",
       "4         Eudyptes sclateri   4.25\n",
       "5           Eudyptula minor   1.60\n",
       "6        Pygoscelis adeliae   4.60\n",
       "7     Pygoscelis antarctica   4.10\n",
       "8          Pygoscelis papua   6.10\n",
       "9       Spheniscus demersus   3.20\n",
       "10     Spheniscus humboldti   4.75\n",
       "11  Spheniscus magellanicus   3.40"
      ]
     },
     "execution_count": 19,
     "metadata": {},
     "output_type": "execute_result"
    }
   ],
   "source": [
    "penguins_df\n"
   ]
  },
  {
   "cell_type": "code",
   "execution_count": 20,
   "metadata": {
    "collapsed": true
   },
   "outputs": [],
   "source": [
    "penguins_copy=penguins_df.copy()#creating a similar copy of the data"
   ]
  },
  {
   "cell_type": "code",
   "execution_count": 21,
   "metadata": {
    "collapsed": true
   },
   "outputs": [],
   "source": [
    "penguins_copy['molecular weight'] = 'NaN' # adding a column called molecular weight and assigning NaN values "
   ]
  },
  {
   "cell_type": "code",
   "execution_count": 22,
   "metadata": {
    "collapsed": true
   },
   "outputs": [],
   "source": [
    "penguins_copy['GC_content'] = 'NaN' # adding a column called molecular weight and assigning NaN values "
   ]
  },
  {
   "cell_type": "code",
   "execution_count": 23,
   "metadata": {},
   "outputs": [
    {
     "data": {
      "text/html": [
       "<div>\n",
       "<style>\n",
       "    .dataframe thead tr:only-child th {\n",
       "        text-align: right;\n",
       "    }\n",
       "\n",
       "    .dataframe thead th {\n",
       "        text-align: left;\n",
       "    }\n",
       "\n",
       "    .dataframe tbody tr th {\n",
       "        vertical-align: top;\n",
       "    }\n",
       "</style>\n",
       "<table border=\"1\" class=\"dataframe\">\n",
       "  <thead>\n",
       "    <tr style=\"text-align: right;\">\n",
       "      <th></th>\n",
       "      <th>species</th>\n",
       "      <th>mass</th>\n",
       "      <th>molecular weight</th>\n",
       "      <th>GC_content</th>\n",
       "    </tr>\n",
       "  </thead>\n",
       "  <tbody>\n",
       "    <tr>\n",
       "      <th>0</th>\n",
       "      <td>Aptenodytes forsteri</td>\n",
       "      <td>28.00</td>\n",
       "      <td>NaN</td>\n",
       "      <td>NaN</td>\n",
       "    </tr>\n",
       "    <tr>\n",
       "      <th>1</th>\n",
       "      <td>Aptenodytes patagonicus</td>\n",
       "      <td>13.40</td>\n",
       "      <td>NaN</td>\n",
       "      <td>NaN</td>\n",
       "    </tr>\n",
       "    <tr>\n",
       "      <th>2</th>\n",
       "      <td>Eudyptes chrysocome</td>\n",
       "      <td>2.80</td>\n",
       "      <td>NaN</td>\n",
       "      <td>NaN</td>\n",
       "    </tr>\n",
       "    <tr>\n",
       "      <th>3</th>\n",
       "      <td>Eudyptes chrysolophus</td>\n",
       "      <td>4.50</td>\n",
       "      <td>NaN</td>\n",
       "      <td>NaN</td>\n",
       "    </tr>\n",
       "    <tr>\n",
       "      <th>4</th>\n",
       "      <td>Eudyptes sclateri</td>\n",
       "      <td>4.25</td>\n",
       "      <td>NaN</td>\n",
       "      <td>NaN</td>\n",
       "    </tr>\n",
       "    <tr>\n",
       "      <th>5</th>\n",
       "      <td>Eudyptula minor</td>\n",
       "      <td>1.60</td>\n",
       "      <td>NaN</td>\n",
       "      <td>NaN</td>\n",
       "    </tr>\n",
       "    <tr>\n",
       "      <th>6</th>\n",
       "      <td>Pygoscelis adeliae</td>\n",
       "      <td>4.60</td>\n",
       "      <td>NaN</td>\n",
       "      <td>NaN</td>\n",
       "    </tr>\n",
       "    <tr>\n",
       "      <th>7</th>\n",
       "      <td>Pygoscelis antarctica</td>\n",
       "      <td>4.10</td>\n",
       "      <td>NaN</td>\n",
       "      <td>NaN</td>\n",
       "    </tr>\n",
       "    <tr>\n",
       "      <th>8</th>\n",
       "      <td>Pygoscelis papua</td>\n",
       "      <td>6.10</td>\n",
       "      <td>NaN</td>\n",
       "      <td>NaN</td>\n",
       "    </tr>\n",
       "    <tr>\n",
       "      <th>9</th>\n",
       "      <td>Spheniscus demersus</td>\n",
       "      <td>3.20</td>\n",
       "      <td>NaN</td>\n",
       "      <td>NaN</td>\n",
       "    </tr>\n",
       "    <tr>\n",
       "      <th>10</th>\n",
       "      <td>Spheniscus humboldti</td>\n",
       "      <td>4.75</td>\n",
       "      <td>NaN</td>\n",
       "      <td>NaN</td>\n",
       "    </tr>\n",
       "    <tr>\n",
       "      <th>11</th>\n",
       "      <td>Spheniscus magellanicus</td>\n",
       "      <td>3.40</td>\n",
       "      <td>NaN</td>\n",
       "      <td>NaN</td>\n",
       "    </tr>\n",
       "  </tbody>\n",
       "</table>\n",
       "</div>"
      ],
      "text/plain": [
       "                    species   mass molecular weight GC_content\n",
       "0      Aptenodytes forsteri  28.00              NaN        NaN\n",
       "1   Aptenodytes patagonicus  13.40              NaN        NaN\n",
       "2       Eudyptes chrysocome   2.80              NaN        NaN\n",
       "3     Eudyptes chrysolophus   4.50              NaN        NaN\n",
       "4         Eudyptes sclateri   4.25              NaN        NaN\n",
       "5           Eudyptula minor   1.60              NaN        NaN\n",
       "6        Pygoscelis adeliae   4.60              NaN        NaN\n",
       "7     Pygoscelis antarctica   4.10              NaN        NaN\n",
       "8          Pygoscelis papua   6.10              NaN        NaN\n",
       "9       Spheniscus demersus   3.20              NaN        NaN\n",
       "10     Spheniscus humboldti   4.75              NaN        NaN\n",
       "11  Spheniscus magellanicus   3.40              NaN        NaN"
      ]
     },
     "execution_count": 23,
     "metadata": {},
     "output_type": "execute_result"
    }
   ],
   "source": [
    "penguins_copy"
   ]
  },
  {
   "cell_type": "code",
   "execution_count": 24,
   "metadata": {
    "collapsed": true
   },
   "outputs": [],
   "source": [
    "penguins_df_copy=penguins_copy.copy()# creating and storing a copy of this data the molecular \n",
    "#weight and GC content coulumns as NAN"
   ]
  },
  {
   "cell_type": "code",
   "execution_count": 25,
   "metadata": {},
   "outputs": [
    {
     "data": {
      "text/html": [
       "<div>\n",
       "<style>\n",
       "    .dataframe thead tr:only-child th {\n",
       "        text-align: right;\n",
       "    }\n",
       "\n",
       "    .dataframe thead th {\n",
       "        text-align: left;\n",
       "    }\n",
       "\n",
       "    .dataframe tbody tr th {\n",
       "        vertical-align: top;\n",
       "    }\n",
       "</style>\n",
       "<table border=\"1\" class=\"dataframe\">\n",
       "  <thead>\n",
       "    <tr style=\"text-align: right;\">\n",
       "      <th></th>\n",
       "      <th>species</th>\n",
       "      <th>mass</th>\n",
       "    </tr>\n",
       "  </thead>\n",
       "  <tbody>\n",
       "    <tr>\n",
       "      <th>0</th>\n",
       "      <td>Aptenodytes forsteri</td>\n",
       "      <td>28.0</td>\n",
       "    </tr>\n",
       "    <tr>\n",
       "      <th>1</th>\n",
       "      <td>Aptenodytes patagonicus</td>\n",
       "      <td>13.4</td>\n",
       "    </tr>\n",
       "    <tr>\n",
       "      <th>2</th>\n",
       "      <td>Eudyptes chrysocome</td>\n",
       "      <td>2.8</td>\n",
       "    </tr>\n",
       "  </tbody>\n",
       "</table>\n",
       "</div>"
      ],
      "text/plain": [
       "                   species  mass\n",
       "0     Aptenodytes forsteri  28.0\n",
       "1  Aptenodytes patagonicus  13.4\n",
       "2      Eudyptes chrysocome   2.8"
      ]
     },
     "execution_count": 25,
     "metadata": {},
     "output_type": "execute_result"
    }
   ],
   "source": [
    "penguins_df.head(3)"
   ]
  },
  {
   "cell_type": "code",
   "execution_count": 26,
   "metadata": {},
   "outputs": [
    {
     "data": {
      "text/html": [
       "<div>\n",
       "<style>\n",
       "    .dataframe thead tr:only-child th {\n",
       "        text-align: right;\n",
       "    }\n",
       "\n",
       "    .dataframe thead th {\n",
       "        text-align: left;\n",
       "    }\n",
       "\n",
       "    .dataframe tbody tr th {\n",
       "        vertical-align: top;\n",
       "    }\n",
       "</style>\n",
       "<table border=\"1\" class=\"dataframe\">\n",
       "  <thead>\n",
       "    <tr style=\"text-align: right;\">\n",
       "      <th></th>\n",
       "      <th>species</th>\n",
       "      <th>mass</th>\n",
       "      <th>molecular weight</th>\n",
       "      <th>GC_content</th>\n",
       "    </tr>\n",
       "  </thead>\n",
       "  <tbody>\n",
       "    <tr>\n",
       "      <th>0</th>\n",
       "      <td>Aptenodytes forsteri</td>\n",
       "      <td>28.0</td>\n",
       "      <td>NaN</td>\n",
       "      <td>NaN</td>\n",
       "    </tr>\n",
       "    <tr>\n",
       "      <th>1</th>\n",
       "      <td>Aptenodytes patagonicus</td>\n",
       "      <td>13.4</td>\n",
       "      <td>NaN</td>\n",
       "      <td>NaN</td>\n",
       "    </tr>\n",
       "    <tr>\n",
       "      <th>2</th>\n",
       "      <td>Eudyptes chrysocome</td>\n",
       "      <td>2.8</td>\n",
       "      <td>NaN</td>\n",
       "      <td>NaN</td>\n",
       "    </tr>\n",
       "  </tbody>\n",
       "</table>\n",
       "</div>"
      ],
      "text/plain": [
       "                   species  mass molecular weight GC_content\n",
       "0     Aptenodytes forsteri  28.0              NaN        NaN\n",
       "1  Aptenodytes patagonicus  13.4              NaN        NaN\n",
       "2      Eudyptes chrysocome   2.8              NaN        NaN"
      ]
     },
     "execution_count": 26,
     "metadata": {},
     "output_type": "execute_result"
    }
   ],
   "source": [
    "penguins_copy.head(3)"
   ]
  },
  {
   "cell_type": "markdown",
   "metadata": {},
   "source": [
    "# 7 \n",
    "####  for-loop that translates each sequence\n",
    "##### gets molecular weight and \n",
    "##### computes the GC content of each translated sequence and \n",
    "#### adds those data to DataFrame"
   ]
  },
  {
   "cell_type": "markdown",
   "metadata": {},
   "source": [
    "# 8 \n",
    "#### Plot a bar-chart of the mass with the x-axes labeled with species names.\n",
    "#### *Q1* What is the smallest penguin species?  Eudyptula minor\n",
    "#### *Q2* What else is interesting about this species? number 3 in mol weight\n"
   ]
  },
  {
   "cell_type": "code",
   "execution_count": 27,
   "metadata": {
    "scrolled": true
   },
   "outputs": [
    {
     "name": "stdout",
     "output_type": "stream",
     "text": [
      "                    species   mass molecular weight GC_content\n",
      "0      Aptenodytes forsteri  28.00          42459.6    48.3815\n",
      "1   Aptenodytes patagonicus  13.40          42563.7    49.6938\n",
      "2       Eudyptes chrysocome   2.80          42475.6    51.1811\n",
      "3     Eudyptes chrysolophus   4.50          42445.5    50.9186\n",
      "4         Eudyptes sclateri   4.25          42475.6    50.8311\n",
      "5           Eudyptula minor   1.60          42491.6    49.2563\n",
      "6        Pygoscelis adeliae   4.60          42458.6    49.0814\n",
      "7     Pygoscelis antarctica   4.10          42404.5     47.769\n",
      "8          Pygoscelis papua   6.10          42595.9    47.1566\n",
      "9       Spheniscus demersus   3.20          42431.5     48.294\n",
      "10     Spheniscus humboldti   4.75          42399.6    49.2563\n",
      "11  Spheniscus magellanicus   3.40          42459.6    48.2065\n"
     ]
    }
   ],
   "source": [
    "j = 0 # setting j at 0\n",
    "for key,value in cytb_seqs.items(): #setting values for every speices in penguins_df\n",
    "    translate_seq = function_translate(str(value)) #Translating the fasta sequences for each species into amino acids\n",
    "    weight = compute_molecular_weight(translate_seq) # Computating molecular weight \n",
    "    GC_call=GC_content(str(value))\n",
    "    penguins_copy.set_value(j,'GC_content',GC_call)\n",
    "    penguins_copy.set_value(j,'molecular weight',weight)\n",
    "    j=j+1\n",
    "print(penguins_copy)\n",
    "\n"
   ]
  },
  {
   "cell_type": "code",
   "execution_count": 28,
   "metadata": {
    "collapsed": true
   },
   "outputs": [],
   "source": [
    "import numpy as np\n",
    "import matplotlib.pyplot as plt\n",
    "import matplotlib\n"
   ]
  },
  {
   "cell_type": "code",
   "execution_count": 29,
   "metadata": {
    "collapsed": true
   },
   "outputs": [],
   "source": [
    "%matplotlib inline"
   ]
  },
  {
   "cell_type": "code",
   "execution_count": 30,
   "metadata": {},
   "outputs": [
    {
     "data": {
      "text/plain": [
       "[<matplotlib.text.Text at 0x1cf9ea567b8>,\n",
       " <matplotlib.text.Text at 0x1cf9ea7c320>,\n",
       " <matplotlib.text.Text at 0x1cf9ec822b0>,\n",
       " <matplotlib.text.Text at 0x1cf9ec82c88>,\n",
       " <matplotlib.text.Text at 0x1cf9ec8a6a0>,\n",
       " <matplotlib.text.Text at 0x1cf9ec900b8>,\n",
       " <matplotlib.text.Text at 0x1cf9ec90a90>,\n",
       " <matplotlib.text.Text at 0x1cf9ec994a8>,\n",
       " <matplotlib.text.Text at 0x1cf9ec99e80>,\n",
       " <matplotlib.text.Text at 0x1cf9ec9c898>,\n",
       " <matplotlib.text.Text at 0x1cf9eca22b0>,\n",
       " <matplotlib.text.Text at 0x1cf9eca2c88>]"
      ]
     },
     "execution_count": 30,
     "metadata": {},
     "output_type": "execute_result"
    },
    {
     "data": {
      "image/png": "[encoded data removed]",
      "text/plain": [
       "<matplotlib.figure.Figure at 0x1cf9e871898>"
      ]
     },
     "metadata": {},
     "output_type": "display_data"
    }
   ],
   "source": [
    "figure1 = sns.barplot(x = 'species', y= 'mass', hue_order='species', data = penguins_df)\n",
    "figure1.set_xticklabels(labels = penguins_df.species, rotation=90,)"
   ]
  },
  {
   "cell_type": "markdown",
   "metadata": {},
   "source": [
    "# 9 \n",
    "#### Plot a visualization of the molecular weight (y-axis) as a function of GC-content (x-axis)."
   ]
  },
  {
   "cell_type": "code",
   "execution_count": 31,
   "metadata": {},
   "outputs": [
    {
     "data": {
      "text/plain": [
       "<seaborn.axisgrid.FacetGrid at 0x1cf9e871710>"
      ]
     },
     "execution_count": 31,
     "metadata": {},
     "output_type": "execute_result"
    },
    {
     "data": {
      "image/png": "[encoded data removed]",
      "text/plain": [
       "<matplotlib.figure.Figure at 0x1cf9ec7af28>"
      ]
     },
     "metadata": {},
     "output_type": "display_data"
    }
   ],
   "source": [
    "sns.lmplot(\"GC_content\", \"molecular weight\", data=penguins_copy, fit_reg=False, size=8,aspect=1.5, scatter_kws={'alpha':0.8,\"s\": 50}, hue='species', markers='D')"
   ]
  },
  {
   "cell_type": "markdown",
   "metadata": {
    "collapsed": true
   },
   "source": [
    "# 10 \n",
    "#### Save the new DataFrame to a file called \"penguins_mass_cytb.csv\""
   ]
  },
  {
   "cell_type": "code",
   "execution_count": 32,
   "metadata": {
    "collapsed": true
   },
   "outputs": [],
   "source": [
    "penguins_df.to_csv('penguins_mass_cytb.csv', sep=',',index=False, encoding='utf-8', )"
   ]
  },
  {
   "cell_type": "markdown",
   "metadata": {},
   "source": [
    "# Bonus"
   ]
  },
  {
   "cell_type": "markdown",
   "metadata": {
    "collapsed": true
   },
   "source": [
    "### The 20 amino acids can be classified as charged, polar or hydrophobic.\n",
    "##### I am going to try this out using a function that can count number of aa based on if they are charged, polar or hydrophobic\n"
   ]
  },
  {
   "cell_type": "code",
   "execution_count": 36,
   "metadata": {},
   "outputs": [
    {
     "name": "stdout",
     "output_type": "stream",
     "text": [
      "                    species   mass molecular weight GC_content   charged  \\\n",
      "0      Aptenodytes forsteri  28.00          42459.6    48.3815  0.021053   \n",
      "1   Aptenodytes patagonicus  13.40          42563.7    49.6938  0.021053   \n",
      "2       Eudyptes chrysocome   2.80          42475.6    51.1811  0.021053   \n",
      "3     Eudyptes chrysolophus   4.50          42445.5    50.9186  0.021053   \n",
      "4         Eudyptes sclateri   4.25          42475.6    50.8311  0.021053   \n",
      "5           Eudyptula minor   1.60          42491.6    49.2563  0.021053   \n",
      "6        Pygoscelis adeliae   4.60          42458.6    49.0814  0.021053   \n",
      "7     Pygoscelis antarctica   4.10          42404.5     47.769  0.021053   \n",
      "8          Pygoscelis papua   6.10          42595.9    47.1566  0.021053   \n",
      "9       Spheniscus demersus   3.20          42431.5     48.294  0.021053   \n",
      "10     Spheniscus humboldti   4.75          42399.6    49.2563  0.021053   \n",
      "11  Spheniscus magellanicus   3.40          42459.6    48.2065  0.021053   \n",
      "\n",
      "       polar  hydrophobic  \n",
      "0   0.021053     0.076316  \n",
      "1   0.021053     0.068421  \n",
      "2   0.021053     0.068421  \n",
      "3   0.021053     0.071053  \n",
      "4   0.021053     0.068421  \n",
      "5   0.021053     0.068421  \n",
      "6   0.021053     0.076316  \n",
      "7   0.021053     0.068421  \n",
      "8   0.021053     0.071053  \n",
      "9   0.021053     0.078947  \n",
      "10  0.021053     0.078947  \n",
      "11  0.021053     0.076316  \n"
     ]
    }
   ],
   "source": [
    "def get_aa_propotion_role_function(aa_seq):\n",
    "    charged = ['R','K','D','E'] #defines charged aa                      \n",
    "    polar = ['Q','N','H','S','T','Y','C','M','W']# defines polar aa\n",
    "    hydrophobic = ['A','I','L','F','V','P','G']# defines hydrophobic aa\n",
    "    charged_aa = count_aa_seq(aa_seq , charged)# counting number of times charged aa occurs \n",
    "    hydrophobic_aa = count_aa_seq(aa_seq , hydrophobic)#counting number of times hydrophobic aa occurs \n",
    "    polar_aa = count_aa_seq(aa_seq , polar)#repeat for polar as in charged and hydrophobic\n",
    "    seq_len = len( aa_seq)  # length for each aa seq.\n",
    "    return {'propotion_charged': float(charged_aa)/seq_len,\n",
    "           'proportion_hydrophobic': float (hydrophobic_aa)/seq_len,\n",
    "           'propotion_polar': float(polar_aa)/seq_len}\n",
    "\n",
    "def count_aa_seq(aa_seq, aa): # defines a function that will be able to use output from the function before\n",
    "    counter = 0                                                        \n",
    "    for i in aa:#for Loop that searches through types of aa and adds them up\n",
    "        counter += aa_seq.count(i)\n",
    "        return counter   #Returns the count of each type of aa  \n",
    "\n",
    "## below, the for loop translates each sequence and the proportion of each aa type\n",
    "## and adds those proportions to the dataframe\n",
    "\n",
    "aa = 0\n",
    "counter = 0\n",
    "for key, value in cytb_seqs.items(): #gives respective values for every speices in penguins_copy\n",
    "    aa_seq = function_translate(str(value))  #Translating the sequences for each species into aa\n",
    "    count_aa = get_aa_propotion_role_function(aa_seq) #Counting aa for each type\n",
    "    \n",
    "#creating new colums for  each aa in the dataframe i.e proportions of each\n",
    "    penguins_copy.set_value(counter,\"charged\",(count_aa[\"propotion_charged\"])) \n",
    "    penguins_copy.set_value(counter,\"polar\",(count_aa[\"propotion_polar\"]))             \n",
    "    penguins_copy.set_value(counter,\"hydrophobic\",(count_aa[\"proportion_hydrophobic\"]))       \n",
    "    counter =counter+1\n",
    "    \n",
    "print(penguins_copy)  "
   ]
  },
  {
   "cell_type": "markdown",
   "metadata": {},
   "source": [
    "# Plotting"
   ]
  },
  {
   "cell_type": "code",
   "execution_count": 34,
   "metadata": {},
   "outputs": [
    {
     "data": {
      "image/png": "[encoded data removed]",
      "text/plain": [
       "<matplotlib.figure.Figure at 0x1cf9f0900f0>"
      ]
     },
     "metadata": {},
     "output_type": "display_data"
    }
   ],
   "source": [
    "ind = np.arange(len(penguins_copy))    \n",
    "p1 = plt.bar(ind, penguins_copy.charged, color='r')\n",
    "p2 = plt.bar(ind, penguins_copy.polar, bottom = penguins_copy.charged, color='b')\n",
    "p3 = plt.bar(ind, penguins_copy.hydrophobic,bottom=penguins_copy.charged+penguins_copy.polar, color='g')\n",
    "plt.ylabel('propotion')\n",
    "plt.title('propotion of charged, polar and hydrophobic aa')\n",
    "plt.xticks(ind, penguins_copy.species, rotation = 30, horizontalalignment = 'right' )\n",
    "plt.legend((p1[0], p2[0], p3[0]), ('charged', 'polar', 'hydrophobic'),bbox_to_anchor=(1.01, 1.01))\n",
    "plt.show()\n"
   ]
  },
  {
   "cell_type": "code",
   "execution_count": null,
   "metadata": {
    "collapsed": true
   },
   "outputs": [],
   "source": []
  }
 ],
 "metadata": {
  "kernelspec": {
   "display_name": "Python 3",
   "language": "python",
   "name": "python3"
  },
  "language_info": {
   "codemirror_mode": {
    "name": "ipython",
    "version": 3
   },
   "file_extension": ".py",
   "mimetype": "text/x-python",
   "name": "python",
   "nbconvert_exporter": "python",
   "pygments_lexer": "ipython3",
   "version": "3.6.2"
  }
 },
 "nbformat": 4,
 "nbformat_minor": 2
}
